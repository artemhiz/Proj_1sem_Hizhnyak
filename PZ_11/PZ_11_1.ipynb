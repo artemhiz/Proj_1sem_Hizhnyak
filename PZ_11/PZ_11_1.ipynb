{
  "nbformat": 4,
  "nbformat_minor": 0,
  "metadata": {
    "colab": {
      "name": "ПЗ-11.ipynb",
      "provenance": [],
      "collapsed_sections": []
    },
    "kernelspec": {
      "name": "python3",
      "display_name": "Python 3"
    },
    "language_info": {
      "name": "python"
    }
  },
  "cells": [
    {
      "cell_type": "markdown",
      "source": [
        "ПЗ-3"
      ],
      "metadata": {
        "id": "l3ETRQA-avt0"
      }
    },
    {
      "cell_type": "code",
      "source": [
        "# Программа анализирует расположение точки по х и у и возвращает истину, если точка находится в I или II четверти\n",
        "while True:\n",
        "    try:\n",
        "        print('\"Точка расположена в первой или третьей четвертях\" - истина или ложь?')\n",
        "        x = float(input('Введите х = '))\n",
        "        y = float(input('Введите у = '))\n",
        "        if (x > 0 and y > 0) or (x < 0 and y < 0):  # находится ли точка в первой или в третьей четвертях\n",
        "            print('Истина')\n",
        "        else:\n",
        "            print('Ложь')\n",
        "        break\n",
        "    except ValueError:  # Проверка исключений\n",
        "        print('Ошибка ввода. Введите целочисленное значение')\n"
      ],
      "metadata": {
        "colab": {
          "base_uri": "https://localhost:8080/"
        },
        "id": "o4orXE69a_4d",
        "outputId": "5fca93ea-64a3-4434-9f7f-93db0e665394"
      },
      "execution_count": 1,
      "outputs": [
        {
          "output_type": "stream",
          "name": "stdout",
          "text": [
            "\"Точка расположена в первой или третьей четвертях\" - истина или ложь?\n",
            "Введите х = 6\n",
            "Введите у = 4\n",
            "Истина\n"
          ]
        }
      ]
    },
    {
      "cell_type": "markdown",
      "source": [
        "ПЗ-4"
      ],
      "metadata": {
        "id": "6SXWIQUba8NR"
      }
    },
    {
      "cell_type": "code",
      "source": [
        "# Программа вычисляет результат в последовательности n^2 + (n+1)^2 + (n+2)^2 ... (2n)^2\n",
        "while True:\n",
        "    try:\n",
        "        n = int(input('Введите целое число: '))\n",
        "        if n > 0:\n",
        "            break\n",
        "        else:\n",
        "            print('Ошибка ввода. Введите число больше нуля')\n",
        "    except ValueError:\n",
        "        print('Ошибка ввода')\n",
        "\n",
        "ans = 0\n",
        "k = 0\n",
        "while k <= n:\n",
        "    ans += (n + k) ** 2\n",
        "    k += 1\n",
        "print(ans)\n"
      ],
      "metadata": {
        "colab": {
          "base_uri": "https://localhost:8080/"
        },
        "id": "7d0BPocpbDe4",
        "outputId": "76062655-79ab-477f-890c-86cde023ec3f"
      },
      "execution_count": 2,
      "outputs": [
        {
          "output_type": "stream",
          "name": "stdout",
          "text": [
            "Введите целое число: 3\n",
            "86\n"
          ]
        }
      ]
    },
    {
      "cell_type": "markdown",
      "source": [
        "ПЗ-5"
      ],
      "metadata": {
        "id": "g-aNan7_bPgs"
      }
    },
    {
      "cell_type": "code",
      "source": [
        "# Функция вычисляет, через сколько раз вычитания из числа суммы его цифр оно будет равно нулю\n",
        "def countdig(k):\n",
        "    b = k\n",
        "    a = 1\n",
        "    while b // 10 != 0:\n",
        "        b = b // 10\n",
        "        a += 1\n",
        "    return a\n",
        "\n",
        "\n",
        "def sumdig(k):\n",
        "    a = countdig(k)\n",
        "    b = 0\n",
        "    while a:\n",
        "        b += k // (10 ** (a - 1)) % 10\n",
        "        a -= 1\n",
        "    return b\n",
        "\n",
        "\n",
        "def mindig(k):\n",
        "    a = 0\n",
        "    while k > 0:\n",
        "        k -= sumdig(k)\n",
        "        a += 1\n",
        "    return a\n",
        "\n",
        "\n",
        "print('Число станет равно нулю через', mindig(int(input('Введите целое число:'))), 'разностей.')\n"
      ],
      "metadata": {
        "colab": {
          "base_uri": "https://localhost:8080/"
        },
        "id": "vCd3Yho7bRb_",
        "outputId": "45a89d38-a768-433b-cd15-28cd5d7e0fc9"
      },
      "execution_count": 3,
      "outputs": [
        {
          "output_type": "stream",
          "name": "stdout",
          "text": [
            "Введите целое число:45\n",
            "Число станет равно нулю через 5 разностей.\n"
          ]
        }
      ]
    }
  ]
}